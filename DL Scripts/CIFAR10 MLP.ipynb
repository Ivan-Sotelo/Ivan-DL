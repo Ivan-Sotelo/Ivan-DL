{
 "cells": [
  {
   "cell_type": "code",
   "execution_count": 5,
   "metadata": {},
   "outputs": [
    {
     "name": "stdout",
     "output_type": "stream",
     "text": [
      "_________________________________________________________________\n",
      "Layer (type)                 Output Shape              Param #   \n",
      "=================================================================\n",
      "dense_13 (Dense)             (None, 1024)              3146752   \n",
      "_________________________________________________________________\n",
      "dropout_5 (Dropout)          (None, 1024)              0         \n",
      "_________________________________________________________________\n",
      "dense_14 (Dense)             (None, 512)               524800    \n",
      "_________________________________________________________________\n",
      "dense_15 (Dense)             (None, 10)                5130      \n",
      "=================================================================\n",
      "Total params: 3,676,682\n",
      "Trainable params: 3,676,682\n",
      "Non-trainable params: 0\n",
      "_________________________________________________________________\n",
      "Train on 40000 samples, validate on 10000 samples\n",
      "Epoch 1/15\n",
      " - 7s - loss: 1.9534 - acc: 0.2865 - val_loss: 1.8196 - val_acc: 0.3397\n",
      "Epoch 2/15\n",
      " - 6s - loss: 1.8044 - acc: 0.3439 - val_loss: 1.7852 - val_acc: 0.3597\n",
      "Epoch 3/15\n",
      " - 6s - loss: 1.7414 - acc: 0.3698 - val_loss: 1.6888 - val_acc: 0.4063\n",
      "Epoch 4/15\n",
      " - 6s - loss: 1.6972 - acc: 0.3851 - val_loss: 1.6475 - val_acc: 0.4104\n",
      "Epoch 5/15\n",
      " - 6s - loss: 1.6674 - acc: 0.3977 - val_loss: 1.6109 - val_acc: 0.4284\n",
      "Epoch 6/15\n",
      " - 6s - loss: 1.6447 - acc: 0.4055 - val_loss: 1.6152 - val_acc: 0.4344\n",
      "Epoch 7/15\n",
      " - 6s - loss: 1.6151 - acc: 0.4181 - val_loss: 1.5777 - val_acc: 0.4413\n",
      "Epoch 8/15\n",
      " - 6s - loss: 1.6001 - acc: 0.4211 - val_loss: 1.5473 - val_acc: 0.4509\n",
      "Epoch 9/15\n",
      " - 6s - loss: 1.5798 - acc: 0.4308 - val_loss: 1.5597 - val_acc: 0.4465\n",
      "Epoch 10/15\n",
      " - 6s - loss: 1.5659 - acc: 0.4347 - val_loss: 1.5440 - val_acc: 0.4514\n",
      "Epoch 11/15\n",
      " - 6s - loss: 1.5529 - acc: 0.4377 - val_loss: 1.5316 - val_acc: 0.4626\n",
      "Epoch 12/15\n",
      " - 6s - loss: 1.5416 - acc: 0.4457 - val_loss: 1.5571 - val_acc: 0.4519\n",
      "Epoch 13/15\n",
      " - 6s - loss: 1.5320 - acc: 0.4477 - val_loss: 1.5333 - val_acc: 0.4495\n",
      "Epoch 14/15\n",
      " - 6s - loss: 1.5194 - acc: 0.4521 - val_loss: 1.4990 - val_acc: 0.4716\n",
      "Epoch 15/15\n",
      " - 6s - loss: 1.5053 - acc: 0.4587 - val_loss: 1.5133 - val_acc: 0.4672\n"
     ]
    },
    {
     "data": {
      "image/png": "[encoded data removed]",
      "text/plain": [
       "<Figure size 432x288 with 1 Axes>"
      ]
     },
     "metadata": {},
     "output_type": "display_data"
    },
    {
     "name": "stdout",
     "output_type": "stream",
     "text": [
      "10000/10000 [==============================] - 0s 28us/step\n",
      "\n",
      "Test accuracy: 47.7%\n"
     ]
    }
   ],
   "source": [
    "from __future__ import absolute_import\n",
    "from __future__ import division\n",
    "from __future__ import print_function\n",
    "\n",
    "import numpy as np\n",
    "\n",
    "from keras.datasets import cifar10\n",
    "from keras.utils.np_utils import to_categorical\n",
    "from keras.models import Sequential\n",
    "from keras.layers import Dense, Activation, Dropout\n",
    "from keras.optimizers import Adam \n",
    "import matplotlib.pyplot as plt\n",
    "\n",
    "\n",
    "#Loading the dataset\n",
    "(X_train, y_train), (X_test, y_test) = cifar10.load_data()\n",
    "\n",
    "#transform labesls to one hot vector\n",
    "y_train = to_categorical(y_train, num_classes=10)\n",
    "y_test = to_categorical(y_test, num_classes=10)\n",
    "\n",
    "#Image to Vector \n",
    "X_train = np.reshape(X_train,(50000,3072))\n",
    "X_test = np.reshape(X_test,(10000,3072))\n",
    "\n",
    "#normalization [0,1]\n",
    "X_train = X_train.astype('float32')/255\n",
    "X_test = X_test.astype('float32')/255\n",
    "\n",
    "#3 layer MLP \n",
    "model = Sequential()\n",
    "model.add(Dense(1024, activation='relu', input_dim=3072))\n",
    "model.add(Dropout(0.25))\n",
    "model.add(Dense(512, activation='relu'))\n",
    "model.add(Dense(10, activation='softmax'))\n",
    "\n",
    "adam = Adam(lr=0.0006, beta_1=0.9, beta_2=0.999, decay=0.0)\n",
    "\n",
    "#compiler parameters\n",
    "model.compile(optimizer=adam,\n",
    "              loss='categorical_crossentropy',\n",
    "              metrics=['accuracy'])\n",
    "model.summary()\n",
    "              \n",
    "#training Parameters\n",
    "batch_size = 32\n",
    "epochs = 15\n",
    "\n",
    "\n",
    "history = model.fit(x=X_train,y=y_train,batch_size = batch_size,epochs=epochs, verbose=2,validation_split=0.2)\n",
    "\n",
    "#plotting of train error and tst error\n",
    "def plotLosses(history):  \n",
    "    plt.plot(history.history['loss'])\n",
    "    plt.plot(history.history['val_loss'])\n",
    "    plt.title('model loss')\n",
    "    plt.ylabel('loss')\n",
    "    plt.xlabel('epoch')\n",
    "    plt.legend(['train', 'test'], loc='upper left')\n",
    "    plt.show()\n",
    "    \n",
    "plotLosses(history)\n",
    "\n",
    "# validate the model on test dataset to determine generalization\n",
    "score = model.evaluate(X_test, y_test, batch_size=batch_size)\n",
    "print(\"\\nTest accuracy: %.1f%%\" % (100.0 * score[1]))             \n",
    "              \n",
    "\n",
    "              \n",
    "              \n",
    "\n",
    "\n",
    "\n",
    "\n",
    "\n",
    "\n",
    "\n"
   ]
  },
  {
   "cell_type": "code",
   "execution_count": null,
   "metadata": {},
   "outputs": [],
   "source": [
    " "
   ]
  },
  {
   "cell_type": "code",
   "execution_count": null,
   "metadata": {},
   "outputs": [],
   "source": []
  }
 ],
 "metadata": {
  "kernelspec": {
   "display_name": "Python 3",
   "language": "python",
   "name": "python3"
  },
  "language_info": {
   "codemirror_mode": {
    "name": "ipython",
    "version": 3
   },
   "file_extension": ".py",
   "mimetype": "text/x-python",
   "name": "python",
   "nbconvert_exporter": "python",
   "pygments_lexer": "ipython3",
   "version": "3.6.8"
  }
 },
 "nbformat": 4,
 "nbformat_minor": 2
}
